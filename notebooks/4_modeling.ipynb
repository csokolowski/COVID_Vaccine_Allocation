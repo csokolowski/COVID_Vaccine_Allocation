{
 "cells": [
  {
   "cell_type": "markdown",
   "id": "50708ead-61c4-49ea-b5fc-52e62785ac75",
   "metadata": {
    "tags": []
   },
   "source": [
    "# Imports"
   ]
  },
  {
   "cell_type": "code",
   "execution_count": 1,
   "id": "730a74b6-974c-4384-bdf3-bb0b6e236410",
   "metadata": {},
   "outputs": [],
   "source": [
    "import pandas as pd\n",
    "import numpy as np\n",
    "import seaborn as sns\n",
    "import matplotlib.pyplot as plt"
   ]
  },
  {
   "cell_type": "code",
   "execution_count": 2,
   "id": "3e0575ca-b609-4f11-b528-99cf36d74446",
   "metadata": {},
   "outputs": [],
   "source": [
    "from sklearn.linear_model import LinearRegression \n",
    "from sklearn.metrics import mean_squared_error\n",
    "from sklearn.model_selection import train_test_split, GridSearchCV\n",
    "from sklearn.ensemble import RandomForestRegressor,BaggingRegressor, AdaBoostRegressor\n",
    "from xgboost import XGBRegressor"
   ]
  },
  {
   "cell_type": "markdown",
   "id": "4b41d8ee-59a3-4e7f-be39-bfeb2c1538c8",
   "metadata": {
    "tags": []
   },
   "source": [
    "# Import Data"
   ]
  },
  {
   "cell_type": "code",
   "execution_count": 10,
   "id": "ab45dfcb-11d9-43c0-ba16-043dedd140d8",
   "metadata": {
    "tags": []
   },
   "outputs": [
    {
     "data": {
      "text/html": [
       "<div>\n",
       "<style scoped>\n",
       "    .dataframe tbody tr th:only-of-type {\n",
       "        vertical-align: middle;\n",
       "    }\n",
       "\n",
       "    .dataframe tbody tr th {\n",
       "        vertical-align: top;\n",
       "    }\n",
       "\n",
       "    .dataframe thead th {\n",
       "        text-align: right;\n",
       "    }\n",
       "</style>\n",
       "<table border=\"1\" class=\"dataframe\">\n",
       "  <thead>\n",
       "    <tr style=\"text-align: right;\">\n",
       "      <th></th>\n",
       "      <th>fips_code</th>\n",
       "      <th>state</th>\n",
       "      <th>estimated_hesitant</th>\n",
       "      <th>estimated_hesitant_or_unsure</th>\n",
       "      <th>estimated_strongly_hesitant</th>\n",
       "      <th>social_vulnerability_index_(svi)</th>\n",
       "      <th>svi_category</th>\n",
       "      <th>cvac_level_of_concern_for_vaccination_rollout</th>\n",
       "      <th>cvac_level_of_concern</th>\n",
       "      <th>percent_adults_fully_vaccinated_against_covid-19_(as_of_6/10/21)</th>\n",
       "      <th>...</th>\n",
       "      <th>series_complete_18pluspop_pct_ur_equity</th>\n",
       "      <th>series_complete_65pluspop_pct_ur_equity</th>\n",
       "      <th>administered_dose1_recip_5plus</th>\n",
       "      <th>administered_dose1_recip_5pluspop_pct</th>\n",
       "      <th>series_complete_5plus</th>\n",
       "      <th>series_complete_5pluspop_pct</th>\n",
       "      <th>pop</th>\n",
       "      <th>state_pop</th>\n",
       "      <th>state_pop_pct</th>\n",
       "      <th>distributed</th>\n",
       "    </tr>\n",
       "  </thead>\n",
       "  <tbody>\n",
       "    <tr>\n",
       "      <th>3111</th>\n",
       "      <td>55079</td>\n",
       "      <td>WISCONSIN</td>\n",
       "      <td>0.1505</td>\n",
       "      <td>0.2144</td>\n",
       "      <td>0.0880</td>\n",
       "      <td>0.81</td>\n",
       "      <td>Very High Vulnerability</td>\n",
       "      <td>0.30</td>\n",
       "      <td>Low Concern</td>\n",
       "      <td>0.543</td>\n",
       "      <td>...</td>\n",
       "      <td>4.0</td>\n",
       "      <td>4.0</td>\n",
       "      <td>628736.0</td>\n",
       "      <td>71.3</td>\n",
       "      <td>563558.0</td>\n",
       "      <td>63.9</td>\n",
       "      <td>945591.0</td>\n",
       "      <td>5852490</td>\n",
       "      <td>16.157072</td>\n",
       "      <td>1598161.0</td>\n",
       "    </tr>\n",
       "    <tr>\n",
       "      <th>3112</th>\n",
       "      <td>55121</td>\n",
       "      <td>WISCONSIN</td>\n",
       "      <td>0.1611</td>\n",
       "      <td>0.2126</td>\n",
       "      <td>0.0959</td>\n",
       "      <td>0.28</td>\n",
       "      <td>Low Vulnerability</td>\n",
       "      <td>0.31</td>\n",
       "      <td>Low Concern</td>\n",
       "      <td>0.612</td>\n",
       "      <td>...</td>\n",
       "      <td>8.0</td>\n",
       "      <td>8.0</td>\n",
       "      <td>19889.0</td>\n",
       "      <td>72.2</td>\n",
       "      <td>18474.0</td>\n",
       "      <td>67.1</td>\n",
       "      <td>29653.0</td>\n",
       "      <td>5852490</td>\n",
       "      <td>0.506673</td>\n",
       "      <td>50117.0</td>\n",
       "    </tr>\n",
       "    <tr>\n",
       "      <th>3113</th>\n",
       "      <td>56001</td>\n",
       "      <td>WYOMING</td>\n",
       "      <td>0.1949</td>\n",
       "      <td>0.2673</td>\n",
       "      <td>0.1405</td>\n",
       "      <td>0.25</td>\n",
       "      <td>Low Vulnerability</td>\n",
       "      <td>0.63</td>\n",
       "      <td>High Concern</td>\n",
       "      <td>0.445</td>\n",
       "      <td>...</td>\n",
       "      <td>8.0</td>\n",
       "      <td>8.0</td>\n",
       "      <td>22819.0</td>\n",
       "      <td>61.5</td>\n",
       "      <td>19926.0</td>\n",
       "      <td>53.7</td>\n",
       "      <td>38844.0</td>\n",
       "      <td>581075</td>\n",
       "      <td>6.684851</td>\n",
       "      <td>56638.0</td>\n",
       "    </tr>\n",
       "    <tr>\n",
       "      <th>3114</th>\n",
       "      <td>55067</td>\n",
       "      <td>WISCONSIN</td>\n",
       "      <td>0.1518</td>\n",
       "      <td>0.2007</td>\n",
       "      <td>0.0906</td>\n",
       "      <td>0.35</td>\n",
       "      <td>Low Vulnerability</td>\n",
       "      <td>0.19</td>\n",
       "      <td>Very Low Concern</td>\n",
       "      <td>0.481</td>\n",
       "      <td>...</td>\n",
       "      <td>8.0</td>\n",
       "      <td>8.0</td>\n",
       "      <td>10423.0</td>\n",
       "      <td>57.1</td>\n",
       "      <td>9871.0</td>\n",
       "      <td>54.1</td>\n",
       "      <td>19204.0</td>\n",
       "      <td>5852490</td>\n",
       "      <td>0.328134</td>\n",
       "      <td>32457.0</td>\n",
       "    </tr>\n",
       "    <tr>\n",
       "      <th>3115</th>\n",
       "      <td>55099</td>\n",
       "      <td>WISCONSIN</td>\n",
       "      <td>0.1528</td>\n",
       "      <td>0.2039</td>\n",
       "      <td>0.0906</td>\n",
       "      <td>0.16</td>\n",
       "      <td>Very Low Vulnerability</td>\n",
       "      <td>0.20</td>\n",
       "      <td>Very Low Concern</td>\n",
       "      <td>0.542</td>\n",
       "      <td>...</td>\n",
       "      <td>8.0</td>\n",
       "      <td>8.0</td>\n",
       "      <td>8390.0</td>\n",
       "      <td>65.7</td>\n",
       "      <td>7906.0</td>\n",
       "      <td>61.9</td>\n",
       "      <td>13355.0</td>\n",
       "      <td>5852490</td>\n",
       "      <td>0.228193</td>\n",
       "      <td>22572.0</td>\n",
       "    </tr>\n",
       "  </tbody>\n",
       "</table>\n",
       "<p>5 rows × 53 columns</p>\n",
       "</div>"
      ],
      "text/plain": [
       "      fips_code      state  estimated_hesitant  estimated_hesitant_or_unsure  \\\n",
       "3111      55079  WISCONSIN              0.1505                        0.2144   \n",
       "3112      55121  WISCONSIN              0.1611                        0.2126   \n",
       "3113      56001    WYOMING              0.1949                        0.2673   \n",
       "3114      55067  WISCONSIN              0.1518                        0.2007   \n",
       "3115      55099  WISCONSIN              0.1528                        0.2039   \n",
       "\n",
       "      estimated_strongly_hesitant  social_vulnerability_index_(svi)  \\\n",
       "3111                       0.0880                              0.81   \n",
       "3112                       0.0959                              0.28   \n",
       "3113                       0.1405                              0.25   \n",
       "3114                       0.0906                              0.35   \n",
       "3115                       0.0906                              0.16   \n",
       "\n",
       "                 svi_category  cvac_level_of_concern_for_vaccination_rollout  \\\n",
       "3111  Very High Vulnerability                                           0.30   \n",
       "3112        Low Vulnerability                                           0.31   \n",
       "3113        Low Vulnerability                                           0.63   \n",
       "3114        Low Vulnerability                                           0.19   \n",
       "3115   Very Low Vulnerability                                           0.20   \n",
       "\n",
       "     cvac_level_of_concern  \\\n",
       "3111           Low Concern   \n",
       "3112           Low Concern   \n",
       "3113          High Concern   \n",
       "3114      Very Low Concern   \n",
       "3115      Very Low Concern   \n",
       "\n",
       "      percent_adults_fully_vaccinated_against_covid-19_(as_of_6/10/21)  ...  \\\n",
       "3111                                              0.543                 ...   \n",
       "3112                                              0.612                 ...   \n",
       "3113                                              0.445                 ...   \n",
       "3114                                              0.481                 ...   \n",
       "3115                                              0.542                 ...   \n",
       "\n",
       "      series_complete_18pluspop_pct_ur_equity  \\\n",
       "3111                                      4.0   \n",
       "3112                                      8.0   \n",
       "3113                                      8.0   \n",
       "3114                                      8.0   \n",
       "3115                                      8.0   \n",
       "\n",
       "      series_complete_65pluspop_pct_ur_equity  administered_dose1_recip_5plus  \\\n",
       "3111                                      4.0                        628736.0   \n",
       "3112                                      8.0                         19889.0   \n",
       "3113                                      8.0                         22819.0   \n",
       "3114                                      8.0                         10423.0   \n",
       "3115                                      8.0                          8390.0   \n",
       "\n",
       "      administered_dose1_recip_5pluspop_pct  series_complete_5plus  \\\n",
       "3111                                   71.3               563558.0   \n",
       "3112                                   72.2                18474.0   \n",
       "3113                                   61.5                19926.0   \n",
       "3114                                   57.1                 9871.0   \n",
       "3115                                   65.7                 7906.0   \n",
       "\n",
       "      series_complete_5pluspop_pct       pop state_pop  state_pop_pct  \\\n",
       "3111                          63.9  945591.0   5852490      16.157072   \n",
       "3112                          67.1   29653.0   5852490       0.506673   \n",
       "3113                          53.7   38844.0    581075       6.684851   \n",
       "3114                          54.1   19204.0   5852490       0.328134   \n",
       "3115                          61.9   13355.0   5852490       0.228193   \n",
       "\n",
       "      distributed  \n",
       "3111    1598161.0  \n",
       "3112      50117.0  \n",
       "3113      56638.0  \n",
       "3114      32457.0  \n",
       "3115      22572.0  \n",
       "\n",
       "[5 rows x 53 columns]"
      ]
     },
     "execution_count": 10,
     "metadata": {},
     "output_type": "execute_result"
    }
   ],
   "source": [
    "df = pd.read_csv('../cleaned_data/merged.csv')\n",
    "df.tail()"
   ]
  },
  {
   "cell_type": "code",
   "execution_count": 5,
   "id": "d84819b0-8e2a-4bbe-8e6d-5cc9b8b4d49a",
   "metadata": {
    "tags": []
   },
   "outputs": [
    {
     "data": {
      "text/plain": [
       "Index(['fips_code', 'state', 'estimated_hesitant',\n",
       "       'estimated_hesitant_or_unsure', 'estimated_strongly_hesitant',\n",
       "       'social_vulnerability_index_(svi)', 'svi_category',\n",
       "       'cvac_level_of_concern_for_vaccination_rollout',\n",
       "       'cvac_level_of_concern',\n",
       "       'percent_adults_fully_vaccinated_against_covid-19_(as_of_6/10/21)',\n",
       "       'percent_hispanic',\n",
       "       'percent_non-hispanic_american_indian/alaska_native',\n",
       "       'percent_non-hispanic_asian', 'percent_non-hispanic_black',\n",
       "       'percent_non-hispanic_native_hawaiian/pacific_islander',\n",
       "       'percent_non-hispanic_white', 'recip_county', 'recip_state',\n",
       "       'series_complete_pop_pct', 'series_complete_yes',\n",
       "       'series_complete_12plus', 'series_complete_12pluspop_pct',\n",
       "       'series_complete_18plus', 'series_complete_18pluspop_pct',\n",
       "       'series_complete_65plus', 'series_complete_65pluspop_pct',\n",
       "       'completeness_pct', 'administered_dose1_recip',\n",
       "       'administered_dose1_pop_pct', 'administered_dose1_recip_12plus',\n",
       "       'administered_dose1_recip_12pluspop_pct',\n",
       "       'administered_dose1_recip_18plus',\n",
       "       'administered_dose1_recip_18pluspop_pct',\n",
       "       'administered_dose1_recip_65plus',\n",
       "       'administered_dose1_recip_65pluspop_pct', 'svi_ctgy',\n",
       "       'series_complete_pop_pct_svi', 'series_complete_12pluspop_pct_svi',\n",
       "       'series_complete_18pluspop_pct_svi',\n",
       "       'series_complete_65pluspop_pct_svi', 'metro_status',\n",
       "       'series_complete_pop_pct_ur_equity',\n",
       "       'series_complete_12pluspop_pct_ur_equity',\n",
       "       'series_complete_18pluspop_pct_ur_equity',\n",
       "       'series_complete_65pluspop_pct_ur_equity',\n",
       "       'administered_dose1_recip_5plus',\n",
       "       'administered_dose1_recip_5pluspop_pct', 'series_complete_5plus',\n",
       "       'series_complete_5pluspop_pct', 'pop', 'state_pop', 'state_pop_pct',\n",
       "       'distributed'],\n",
       "      dtype='object')"
      ]
     },
     "execution_count": 5,
     "metadata": {},
     "output_type": "execute_result"
    }
   ],
   "source": [
    "df.columns"
   ]
  },
  {
   "cell_type": "code",
   "execution_count": 9,
   "id": "c85197a0-b5c7-46e6-abe3-880ca866147c",
   "metadata": {},
   "outputs": [
    {
     "data": {
      "text/plain": [
       "0        14892\n",
       "1        27653\n",
       "2         5151\n",
       "3         7123\n",
       "4         4913\n",
       "         ...  \n",
       "3111    563572\n",
       "3112     18474\n",
       "3113     19927\n",
       "3114      9871\n",
       "3115      7906\n",
       "Name: series_complete_yes, Length: 3116, dtype: int64"
      ]
     },
     "execution_count": 9,
     "metadata": {},
     "output_type": "execute_result"
    }
   ],
   "source": [
    "df['series_complete_yes']"
   ]
  },
  {
   "cell_type": "code",
   "execution_count": 6,
   "id": "dc78341b-d5a9-4f85-ab9d-6f19fac3dcba",
   "metadata": {},
   "outputs": [],
   "source": [
    "pruned = df[['state','social_vulnerability_index_(svi)','estimated_hesitant_or_unsure',\n",
    "           'percent_hispanic','percent_non-hispanic_american_indian/alaska_native',\n",
    "           'percent_non-hispanic_asian','percent_non-hispanic_black','percent_non-hispanic_native_hawaiian/pacific_islander',\n",
    "           'percent_non-hispanic_white']]"
   ]
  },
  {
   "cell_type": "code",
   "execution_count": 6,
   "id": "5b55f2e4-0ada-4cb3-a22e-3b1d4bb82568",
   "metadata": {},
   "outputs": [],
   "source": [
    "X = pruned.drop(columns=['estimated_hesitant_or_unsure'])\n",
    "y = pruned['estimated_hesitant_or_unsure']"
   ]
  },
  {
   "cell_type": "code",
   "execution_count": 7,
   "id": "75a508cd-6641-4073-bf4b-3652adc0eca2",
   "metadata": {},
   "outputs": [],
   "source": [
    "X = pd.get_dummies(data=X, columns=['state'])"
   ]
  },
  {
   "cell_type": "code",
   "execution_count": 8,
   "id": "f3125573-0d9c-434a-a505-7a916591a653",
   "metadata": {},
   "outputs": [],
   "source": [
    "X_train, X_test, y_train, y_test = train_test_split(X,y,\n",
    "                                                   random_state=42)"
   ]
  },
  {
   "cell_type": "markdown",
   "id": "16fe0812-3e32-49ab-93ed-2942ade2c65b",
   "metadata": {
    "tags": [],
    "toc-hr-collapsed": true
   },
   "source": [
    "# Predicting Vaccine Hestitation"
   ]
  },
  {
   "cell_type": "markdown",
   "id": "70157643-dbd1-4d4f-ac96-942447d1d404",
   "metadata": {
    "tags": [],
    "toc-hr-collapsed": true
   },
   "source": [
    "## Linear Regression\n",
    "(0.0023815017692421525, 0.0025046182379516026)"
   ]
  },
  {
   "cell_type": "code",
   "execution_count": 9,
   "id": "270ab79a-36d7-432a-872f-cfc03adaa3bf",
   "metadata": {},
   "outputs": [
    {
     "data": {
      "text/plain": [
       "(0.00018690041483654678, 0.00022874974127649097)"
      ]
     },
     "execution_count": 9,
     "metadata": {},
     "output_type": "execute_result"
    }
   ],
   "source": [
    "linreg=LinearRegression()\n",
    "linreg.fit(X_train, y_train)\n",
    "mean_squared_error(y_train, linreg.predict(X_train)),mean_squared_error(y_test, linreg.predict(X_test))"
   ]
  },
  {
   "cell_type": "code",
   "execution_count": 10,
   "id": "33647cce-eea3-4175-9316-c01c7023f5ab",
   "metadata": {},
   "outputs": [],
   "source": [
    "coefs = pd.DataFrame(list(zip(X.columns,linreg.coef_)), columns=['variable','coefficient'])"
   ]
  },
  {
   "cell_type": "code",
   "execution_count": 11,
   "id": "67d6645f-bea7-4b64-90c7-313e9dd0ca52",
   "metadata": {
    "tags": []
   },
   "outputs": [
    {
     "data": {
      "text/html": [
       "<div>\n",
       "<style scoped>\n",
       "    .dataframe tbody tr th:only-of-type {\n",
       "        vertical-align: middle;\n",
       "    }\n",
       "\n",
       "    .dataframe tbody tr th {\n",
       "        vertical-align: top;\n",
       "    }\n",
       "\n",
       "    .dataframe thead th {\n",
       "        text-align: right;\n",
       "    }\n",
       "</style>\n",
       "<table border=\"1\" class=\"dataframe\">\n",
       "  <thead>\n",
       "    <tr style=\"text-align: right;\">\n",
       "      <th></th>\n",
       "      <th>variable</th>\n",
       "      <th>coefficient</th>\n",
       "    </tr>\n",
       "  </thead>\n",
       "  <tbody>\n",
       "    <tr>\n",
       "      <th>5</th>\n",
       "      <td>percent_non-hispanic_native_hawaiian/pacific_i...</td>\n",
       "      <td>1.738410e-01</td>\n",
       "    </tr>\n",
       "    <tr>\n",
       "      <th>32</th>\n",
       "      <td>state_MONTANA</td>\n",
       "      <td>1.175782e-01</td>\n",
       "    </tr>\n",
       "    <tr>\n",
       "      <th>2</th>\n",
       "      <td>percent_non-hispanic_american_indian/alaska_na...</td>\n",
       "      <td>1.110447e-01</td>\n",
       "    </tr>\n",
       "    <tr>\n",
       "      <th>56</th>\n",
       "      <td>state_WYOMING</td>\n",
       "      <td>1.091615e-01</td>\n",
       "    </tr>\n",
       "    <tr>\n",
       "      <th>30</th>\n",
       "      <td>state_MISSISSIPPI</td>\n",
       "      <td>9.441496e-02</td>\n",
       "    </tr>\n",
       "    <tr>\n",
       "      <th>6</th>\n",
       "      <td>percent_non-hispanic_white</td>\n",
       "      <td>8.884735e-02</td>\n",
       "    </tr>\n",
       "    <tr>\n",
       "      <th>8</th>\n",
       "      <td>state_ALASKA</td>\n",
       "      <td>7.976118e-02</td>\n",
       "    </tr>\n",
       "    <tr>\n",
       "      <th>18</th>\n",
       "      <td>state_IDAHO</td>\n",
       "      <td>7.557790e-02</td>\n",
       "    </tr>\n",
       "    <tr>\n",
       "      <th>4</th>\n",
       "      <td>percent_non-hispanic_black</td>\n",
       "      <td>7.516749e-02</td>\n",
       "    </tr>\n",
       "    <tr>\n",
       "      <th>24</th>\n",
       "      <td>state_LOUISIANA</td>\n",
       "      <td>7.360075e-02</td>\n",
       "    </tr>\n",
       "    <tr>\n",
       "      <th>10</th>\n",
       "      <td>state_ARKANSAS</td>\n",
       "      <td>6.894615e-02</td>\n",
       "    </tr>\n",
       "    <tr>\n",
       "      <th>42</th>\n",
       "      <td>state_OKLAHOMA</td>\n",
       "      <td>6.872877e-02</td>\n",
       "    </tr>\n",
       "    <tr>\n",
       "      <th>23</th>\n",
       "      <td>state_KENTUCKY</td>\n",
       "      <td>5.911574e-02</td>\n",
       "    </tr>\n",
       "    <tr>\n",
       "      <th>9</th>\n",
       "      <td>state_ARIZONA</td>\n",
       "      <td>5.584565e-02</td>\n",
       "    </tr>\n",
       "    <tr>\n",
       "      <th>17</th>\n",
       "      <td>state_GEORGIA</td>\n",
       "      <td>4.867925e-02</td>\n",
       "    </tr>\n",
       "    <tr>\n",
       "      <th>7</th>\n",
       "      <td>state_ALABAMA</td>\n",
       "      <td>4.001706e-02</td>\n",
       "    </tr>\n",
       "    <tr>\n",
       "      <th>0</th>\n",
       "      <td>social_vulnerability_index_(svi)</td>\n",
       "      <td>3.915418e-02</td>\n",
       "    </tr>\n",
       "    <tr>\n",
       "      <th>1</th>\n",
       "      <td>percent_hispanic</td>\n",
       "      <td>3.745871e-02</td>\n",
       "    </tr>\n",
       "    <tr>\n",
       "      <th>46</th>\n",
       "      <td>state_SOUTH CAROLINA</td>\n",
       "      <td>3.319563e-02</td>\n",
       "    </tr>\n",
       "    <tr>\n",
       "      <th>34</th>\n",
       "      <td>state_NEVADA</td>\n",
       "      <td>3.102433e-02</td>\n",
       "    </tr>\n",
       "    <tr>\n",
       "      <th>22</th>\n",
       "      <td>state_KANSAS</td>\n",
       "      <td>3.036128e-02</td>\n",
       "    </tr>\n",
       "    <tr>\n",
       "      <th>55</th>\n",
       "      <td>state_WISCONSIN</td>\n",
       "      <td>2.725676e-02</td>\n",
       "    </tr>\n",
       "    <tr>\n",
       "      <th>31</th>\n",
       "      <td>state_MISSOURI</td>\n",
       "      <td>2.153071e-02</td>\n",
       "    </tr>\n",
       "    <tr>\n",
       "      <th>41</th>\n",
       "      <td>state_OHIO</td>\n",
       "      <td>2.107160e-02</td>\n",
       "    </tr>\n",
       "    <tr>\n",
       "      <th>16</th>\n",
       "      <td>state_FLORIDA</td>\n",
       "      <td>1.955129e-02</td>\n",
       "    </tr>\n",
       "    <tr>\n",
       "      <th>48</th>\n",
       "      <td>state_TENNESSEE</td>\n",
       "      <td>1.762862e-02</td>\n",
       "    </tr>\n",
       "    <tr>\n",
       "      <th>39</th>\n",
       "      <td>state_NORTH CAROLINA</td>\n",
       "      <td>1.227411e-02</td>\n",
       "    </tr>\n",
       "    <tr>\n",
       "      <th>40</th>\n",
       "      <td>state_NORTH DAKOTA</td>\n",
       "      <td>1.071298e-02</td>\n",
       "    </tr>\n",
       "    <tr>\n",
       "      <th>21</th>\n",
       "      <td>state_IOWA</td>\n",
       "      <td>6.879083e-03</td>\n",
       "    </tr>\n",
       "    <tr>\n",
       "      <th>49</th>\n",
       "      <td>state_TEXAS</td>\n",
       "      <td>5.841709e-03</td>\n",
       "    </tr>\n",
       "    <tr>\n",
       "      <th>15</th>\n",
       "      <td>state_DISTRICT OF COLUMBIA</td>\n",
       "      <td>-5.787905e-15</td>\n",
       "    </tr>\n",
       "    <tr>\n",
       "      <th>20</th>\n",
       "      <td>state_INDIANA</td>\n",
       "      <td>-1.998696e-03</td>\n",
       "    </tr>\n",
       "    <tr>\n",
       "      <th>28</th>\n",
       "      <td>state_MICHIGAN</td>\n",
       "      <td>-7.703583e-03</td>\n",
       "    </tr>\n",
       "    <tr>\n",
       "      <th>44</th>\n",
       "      <td>state_PENNSYLVANIA</td>\n",
       "      <td>-1.099394e-02</td>\n",
       "    </tr>\n",
       "    <tr>\n",
       "      <th>50</th>\n",
       "      <td>state_UTAH</td>\n",
       "      <td>-1.771798e-02</td>\n",
       "    </tr>\n",
       "    <tr>\n",
       "      <th>19</th>\n",
       "      <td>state_ILLINOIS</td>\n",
       "      <td>-1.901668e-02</td>\n",
       "    </tr>\n",
       "    <tr>\n",
       "      <th>47</th>\n",
       "      <td>state_SOUTH DAKOTA</td>\n",
       "      <td>-1.943737e-02</td>\n",
       "    </tr>\n",
       "    <tr>\n",
       "      <th>54</th>\n",
       "      <td>state_WEST VIRGINIA</td>\n",
       "      <td>-3.066657e-02</td>\n",
       "    </tr>\n",
       "    <tr>\n",
       "      <th>37</th>\n",
       "      <td>state_NEW MEXICO</td>\n",
       "      <td>-3.570043e-02</td>\n",
       "    </tr>\n",
       "    <tr>\n",
       "      <th>35</th>\n",
       "      <td>state_NEW HAMPSHIRE</td>\n",
       "      <td>-4.070995e-02</td>\n",
       "    </tr>\n",
       "    <tr>\n",
       "      <th>43</th>\n",
       "      <td>state_OREGON</td>\n",
       "      <td>-4.238980e-02</td>\n",
       "    </tr>\n",
       "    <tr>\n",
       "      <th>33</th>\n",
       "      <td>state_NEBRASKA</td>\n",
       "      <td>-4.273952e-02</td>\n",
       "    </tr>\n",
       "    <tr>\n",
       "      <th>38</th>\n",
       "      <td>state_NEW YORK</td>\n",
       "      <td>-4.472900e-02</td>\n",
       "    </tr>\n",
       "    <tr>\n",
       "      <th>25</th>\n",
       "      <td>state_MAINE</td>\n",
       "      <td>-4.825776e-02</td>\n",
       "    </tr>\n",
       "    <tr>\n",
       "      <th>52</th>\n",
       "      <td>state_VIRGINIA</td>\n",
       "      <td>-4.878701e-02</td>\n",
       "    </tr>\n",
       "    <tr>\n",
       "      <th>11</th>\n",
       "      <td>state_CALIFORNIA</td>\n",
       "      <td>-4.901891e-02</td>\n",
       "    </tr>\n",
       "    <tr>\n",
       "      <th>12</th>\n",
       "      <td>state_COLORADO</td>\n",
       "      <td>-5.014466e-02</td>\n",
       "    </tr>\n",
       "    <tr>\n",
       "      <th>36</th>\n",
       "      <td>state_NEW JERSEY</td>\n",
       "      <td>-5.110640e-02</td>\n",
       "    </tr>\n",
       "    <tr>\n",
       "      <th>53</th>\n",
       "      <td>state_WASHINGTON</td>\n",
       "      <td>-5.257260e-02</td>\n",
       "    </tr>\n",
       "    <tr>\n",
       "      <th>14</th>\n",
       "      <td>state_DELAWARE</td>\n",
       "      <td>-5.610522e-02</td>\n",
       "    </tr>\n",
       "    <tr>\n",
       "      <th>29</th>\n",
       "      <td>state_MINNESOTA</td>\n",
       "      <td>-5.682712e-02</td>\n",
       "    </tr>\n",
       "    <tr>\n",
       "      <th>26</th>\n",
       "      <td>state_MARYLAND</td>\n",
       "      <td>-5.776626e-02</td>\n",
       "    </tr>\n",
       "    <tr>\n",
       "      <th>45</th>\n",
       "      <td>state_RHODE ISLAND</td>\n",
       "      <td>-8.033889e-02</td>\n",
       "    </tr>\n",
       "    <tr>\n",
       "      <th>13</th>\n",
       "      <td>state_CONNECTICUT</td>\n",
       "      <td>-8.312953e-02</td>\n",
       "    </tr>\n",
       "    <tr>\n",
       "      <th>51</th>\n",
       "      <td>state_VERMONT</td>\n",
       "      <td>-8.486353e-02</td>\n",
       "    </tr>\n",
       "    <tr>\n",
       "      <th>27</th>\n",
       "      <td>state_MASSACHUSETTS</td>\n",
       "      <td>-9.603377e-02</td>\n",
       "    </tr>\n",
       "    <tr>\n",
       "      <th>3</th>\n",
       "      <td>percent_non-hispanic_asian</td>\n",
       "      <td>-1.828281e-01</td>\n",
       "    </tr>\n",
       "  </tbody>\n",
       "</table>\n",
       "</div>"
      ],
      "text/plain": [
       "                                             variable   coefficient\n",
       "5   percent_non-hispanic_native_hawaiian/pacific_i...  1.738410e-01\n",
       "32                                      state_MONTANA  1.175782e-01\n",
       "2   percent_non-hispanic_american_indian/alaska_na...  1.110447e-01\n",
       "56                                      state_WYOMING  1.091615e-01\n",
       "30                                  state_MISSISSIPPI  9.441496e-02\n",
       "6                          percent_non-hispanic_white  8.884735e-02\n",
       "8                                        state_ALASKA  7.976118e-02\n",
       "18                                        state_IDAHO  7.557790e-02\n",
       "4                          percent_non-hispanic_black  7.516749e-02\n",
       "24                                    state_LOUISIANA  7.360075e-02\n",
       "10                                     state_ARKANSAS  6.894615e-02\n",
       "42                                     state_OKLAHOMA  6.872877e-02\n",
       "23                                     state_KENTUCKY  5.911574e-02\n",
       "9                                       state_ARIZONA  5.584565e-02\n",
       "17                                      state_GEORGIA  4.867925e-02\n",
       "7                                       state_ALABAMA  4.001706e-02\n",
       "0                    social_vulnerability_index_(svi)  3.915418e-02\n",
       "1                                    percent_hispanic  3.745871e-02\n",
       "46                               state_SOUTH CAROLINA  3.319563e-02\n",
       "34                                       state_NEVADA  3.102433e-02\n",
       "22                                       state_KANSAS  3.036128e-02\n",
       "55                                    state_WISCONSIN  2.725676e-02\n",
       "31                                     state_MISSOURI  2.153071e-02\n",
       "41                                         state_OHIO  2.107160e-02\n",
       "16                                      state_FLORIDA  1.955129e-02\n",
       "48                                    state_TENNESSEE  1.762862e-02\n",
       "39                               state_NORTH CAROLINA  1.227411e-02\n",
       "40                                 state_NORTH DAKOTA  1.071298e-02\n",
       "21                                         state_IOWA  6.879083e-03\n",
       "49                                        state_TEXAS  5.841709e-03\n",
       "15                         state_DISTRICT OF COLUMBIA -5.787905e-15\n",
       "20                                      state_INDIANA -1.998696e-03\n",
       "28                                     state_MICHIGAN -7.703583e-03\n",
       "44                                 state_PENNSYLVANIA -1.099394e-02\n",
       "50                                         state_UTAH -1.771798e-02\n",
       "19                                     state_ILLINOIS -1.901668e-02\n",
       "47                                 state_SOUTH DAKOTA -1.943737e-02\n",
       "54                                state_WEST VIRGINIA -3.066657e-02\n",
       "37                                   state_NEW MEXICO -3.570043e-02\n",
       "35                                state_NEW HAMPSHIRE -4.070995e-02\n",
       "43                                       state_OREGON -4.238980e-02\n",
       "33                                     state_NEBRASKA -4.273952e-02\n",
       "38                                     state_NEW YORK -4.472900e-02\n",
       "25                                        state_MAINE -4.825776e-02\n",
       "52                                     state_VIRGINIA -4.878701e-02\n",
       "11                                   state_CALIFORNIA -4.901891e-02\n",
       "12                                     state_COLORADO -5.014466e-02\n",
       "36                                   state_NEW JERSEY -5.110640e-02\n",
       "53                                   state_WASHINGTON -5.257260e-02\n",
       "14                                     state_DELAWARE -5.610522e-02\n",
       "29                                    state_MINNESOTA -5.682712e-02\n",
       "26                                     state_MARYLAND -5.776626e-02\n",
       "45                                 state_RHODE ISLAND -8.033889e-02\n",
       "13                                  state_CONNECTICUT -8.312953e-02\n",
       "51                                      state_VERMONT -8.486353e-02\n",
       "27                                state_MASSACHUSETTS -9.603377e-02\n",
       "3                          percent_non-hispanic_asian -1.828281e-01"
      ]
     },
     "execution_count": 11,
     "metadata": {},
     "output_type": "execute_result"
    }
   ],
   "source": [
    "coefs.sort_values(by='coefficient',ascending=False)"
   ]
  },
  {
   "cell_type": "code",
   "execution_count": null,
   "id": "aaa5777e-0693-41d3-82a6-eb2e0d20d491",
   "metadata": {},
   "outputs": [],
   "source": []
  },
  {
   "cell_type": "markdown",
   "id": "0cdc09f7-d6af-41a6-bb70-b36dcb832867",
   "metadata": {
    "tags": [],
    "toc-hr-collapsed": true
   },
   "source": [
    "## Random Forests\n",
    "(4.793140984201448e-05, 0.0003138931016051236)"
   ]
  },
  {
   "cell_type": "code",
   "execution_count": 12,
   "id": "66962652-32bb-43bb-b689-aeb87360b893",
   "metadata": {},
   "outputs": [
    {
     "data": {
      "text/plain": [
       "{'bootstrap': True,\n",
       " 'ccp_alpha': 0.0,\n",
       " 'criterion': 'mse',\n",
       " 'max_depth': None,\n",
       " 'max_features': 'auto',\n",
       " 'max_leaf_nodes': None,\n",
       " 'max_samples': None,\n",
       " 'min_impurity_decrease': 0.0,\n",
       " 'min_impurity_split': None,\n",
       " 'min_samples_leaf': 1,\n",
       " 'min_samples_split': 2,\n",
       " 'min_weight_fraction_leaf': 0.0,\n",
       " 'n_estimators': 100,\n",
       " 'n_jobs': None,\n",
       " 'oob_score': False,\n",
       " 'random_state': None,\n",
       " 'verbose': 0,\n",
       " 'warm_start': False}"
      ]
     },
     "execution_count": 12,
     "metadata": {},
     "output_type": "execute_result"
    }
   ],
   "source": [
    "RandomForestRegressor().get_params()"
   ]
  },
  {
   "cell_type": "code",
   "execution_count": 73,
   "id": "57f05685-704f-4e92-9587-c10f56ce08b3",
   "metadata": {},
   "outputs": [],
   "source": [
    "gs = GridSearchCV(estimator=RandomForestRegressor(),\n",
    "                 param_grid={\n",
    "                     'n_estimators':[500],\n",
    "                     'max_depth':np.linspace(10,50,5),\n",
    "                     'warm_start':[True,False],\n",
    "                 }, cv=5, n_jobs=-1,\n",
    "                 scoring='neg_mean_squared_error')"
   ]
  },
  {
   "cell_type": "code",
   "execution_count": 74,
   "id": "cce80507-85bd-4a29-a689-a404dbb67691",
   "metadata": {},
   "outputs": [
    {
     "name": "stdout",
     "output_type": "stream",
     "text": [
      "Wall time: 1min 15s\n"
     ]
    },
    {
     "data": {
      "text/plain": [
       "GridSearchCV(cv=5, estimator=RandomForestRegressor(), n_jobs=-1,\n",
       "             param_grid={'max_depth': array([10., 20., 30., 40., 50.]),\n",
       "                         'n_estimators': [500], 'warm_start': [True, False]},\n",
       "             scoring='neg_mean_squared_error')"
      ]
     },
     "execution_count": 74,
     "metadata": {},
     "output_type": "execute_result"
    }
   ],
   "source": [
    "%%time\n",
    "\n",
    "gs.fit(X_train,y_train)"
   ]
  },
  {
   "cell_type": "code",
   "execution_count": 75,
   "id": "3affaa79-6803-420a-a6b2-0f03e74b88a3",
   "metadata": {},
   "outputs": [
    {
     "data": {
      "text/plain": [
       "(4.793140984201448e-05, 0.0003138931016051236)"
      ]
     },
     "execution_count": 75,
     "metadata": {},
     "output_type": "execute_result"
    }
   ],
   "source": [
    "mean_squared_error(y_train, gs.predict(X_train)),mean_squared_error(y_test, gs.predict(X_test))"
   ]
  },
  {
   "cell_type": "code",
   "execution_count": 76,
   "id": "7733dad0-0340-463a-9bbe-76f76382f114",
   "metadata": {},
   "outputs": [
    {
     "data": {
      "text/plain": [
       "{'max_depth': 40.0, 'n_estimators': 500, 'warm_start': False}"
      ]
     },
     "execution_count": 76,
     "metadata": {},
     "output_type": "execute_result"
    }
   ],
   "source": [
    "gs.best_params_"
   ]
  },
  {
   "cell_type": "code",
   "execution_count": null,
   "id": "97d8682d-637a-4f95-8bbe-c3c987bb87b6",
   "metadata": {},
   "outputs": [],
   "source": []
  },
  {
   "cell_type": "markdown",
   "id": "50a04cac-a5a7-439c-81c9-4cc1a1517c2b",
   "metadata": {
    "tags": [],
    "toc-hr-collapsed": true
   },
   "source": [
    "## AdaBoost\n",
    "(0.001259134303402612, 0.00137422633741578)"
   ]
  },
  {
   "cell_type": "code",
   "execution_count": 33,
   "id": "a8b98b8c-fb4e-442d-8ed8-d3be6ff94bd2",
   "metadata": {},
   "outputs": [
    {
     "data": {
      "text/plain": [
       "{'base_estimator': None,\n",
       " 'learning_rate': 1.0,\n",
       " 'loss': 'linear',\n",
       " 'n_estimators': 50,\n",
       " 'random_state': None}"
      ]
     },
     "execution_count": 33,
     "metadata": {},
     "output_type": "execute_result"
    }
   ],
   "source": [
    "AdaBoostRegressor().get_params()"
   ]
  },
  {
   "cell_type": "code",
   "execution_count": 77,
   "id": "e2600376-2c5b-4e60-9c5c-756986310bca",
   "metadata": {},
   "outputs": [],
   "source": [
    "ada_gs = GridSearchCV(estimator=AdaBoostRegressor(),\n",
    "                     param_grid={\n",
    "                         'learning_rate': np.linspace(.1,2,5),\n",
    "                         'loss': ['linear','square','exponential'],\n",
    "                         'n_estimators': [500],\n",
    "                         'random_state': [42]\n",
    "                     },cv=5, n_jobs=-1,\n",
    "                     scoring='neg_mean_squared_error')"
   ]
  },
  {
   "cell_type": "code",
   "execution_count": 78,
   "id": "ab70d1ca-ba6d-4ba6-942f-1ba093ca93d2",
   "metadata": {},
   "outputs": [
    {
     "name": "stdout",
     "output_type": "stream",
     "text": [
      "Wall time: 34.5 s\n"
     ]
    },
    {
     "data": {
      "text/plain": [
       "GridSearchCV(cv=5, estimator=AdaBoostRegressor(), n_jobs=-1,\n",
       "             param_grid={'learning_rate': array([0.1  , 0.575, 1.05 , 1.525, 2.   ]),\n",
       "                         'loss': ['linear', 'square', 'exponential'],\n",
       "                         'n_estimators': [500], 'random_state': [42]},\n",
       "             scoring='neg_mean_squared_error')"
      ]
     },
     "execution_count": 78,
     "metadata": {},
     "output_type": "execute_result"
    }
   ],
   "source": [
    "%%time\n",
    "\n",
    "ada_gs.fit(X_train, y_train)"
   ]
  },
  {
   "cell_type": "code",
   "execution_count": 79,
   "id": "de8afc3e-0537-4559-84d3-85858dd96515",
   "metadata": {},
   "outputs": [
    {
     "data": {
      "text/plain": [
       "{'learning_rate': 1.525,\n",
       " 'loss': 'square',\n",
       " 'n_estimators': 500,\n",
       " 'random_state': 42}"
      ]
     },
     "execution_count": 79,
     "metadata": {},
     "output_type": "execute_result"
    }
   ],
   "source": [
    "ada_gs.best_params_"
   ]
  },
  {
   "cell_type": "code",
   "execution_count": 80,
   "id": "1246bb11-92c2-4add-827c-280f96860cd6",
   "metadata": {},
   "outputs": [
    {
     "data": {
      "text/plain": [
       "(0.001259134303402612, 0.00137422633741578)"
      ]
     },
     "execution_count": 80,
     "metadata": {},
     "output_type": "execute_result"
    }
   ],
   "source": [
    "mean_squared_error(y_train, ada_gs.predict(X_train)),mean_squared_error(y_test, ada_gs.predict(X_test))"
   ]
  },
  {
   "cell_type": "code",
   "execution_count": null,
   "id": "40937fec-2ce2-4c8f-a7dc-ae1103c1a650",
   "metadata": {},
   "outputs": [],
   "source": []
  },
  {
   "cell_type": "markdown",
   "id": "18784c0a-9f1e-458f-a563-1bc32ede7d9c",
   "metadata": {
    "tags": [],
    "toc-hr-collapsed": true
   },
   "source": [
    "## XGBoost\n",
    "(1.7443373963809892e-05, 0.0002301318735520251)"
   ]
  },
  {
   "cell_type": "code",
   "execution_count": 63,
   "id": "69ce62fd-55c0-4167-b953-b2227de5cbee",
   "metadata": {},
   "outputs": [
    {
     "data": {
      "text/plain": [
       "{'objective': 'reg:squarederror',\n",
       " 'base_score': None,\n",
       " 'booster': None,\n",
       " 'colsample_bylevel': None,\n",
       " 'colsample_bynode': None,\n",
       " 'colsample_bytree': None,\n",
       " 'enable_categorical': False,\n",
       " 'gamma': None,\n",
       " 'gpu_id': None,\n",
       " 'importance_type': None,\n",
       " 'interaction_constraints': None,\n",
       " 'learning_rate': None,\n",
       " 'max_delta_step': None,\n",
       " 'max_depth': None,\n",
       " 'min_child_weight': None,\n",
       " 'missing': nan,\n",
       " 'monotone_constraints': None,\n",
       " 'n_estimators': 100,\n",
       " 'n_jobs': None,\n",
       " 'num_parallel_tree': None,\n",
       " 'predictor': None,\n",
       " 'random_state': None,\n",
       " 'reg_alpha': None,\n",
       " 'reg_lambda': None,\n",
       " 'scale_pos_weight': None,\n",
       " 'subsample': None,\n",
       " 'tree_method': None,\n",
       " 'validate_parameters': None,\n",
       " 'verbosity': None}"
      ]
     },
     "execution_count": 63,
     "metadata": {},
     "output_type": "execute_result"
    }
   ],
   "source": [
    "XGBRegressor().get_params()"
   ]
  },
  {
   "cell_type": "code",
   "execution_count": 81,
   "id": "be6aab59-a5b6-468a-a95d-550e80e0bc39",
   "metadata": {},
   "outputs": [
    {
     "data": {
      "text/plain": [
       "XGBRegressor(base_score=0.5, booster='gbtree', colsample_bylevel=1,\n",
       "             colsample_bynode=1, colsample_bytree=1, enable_categorical=False,\n",
       "             gamma=0, gpu_id=-1, importance_type=None,\n",
       "             interaction_constraints='', learning_rate=0.300000012,\n",
       "             max_delta_step=0, max_depth=6, min_child_weight=1, missing=nan,\n",
       "             monotone_constraints='()', n_estimators=100, n_jobs=8,\n",
       "             num_parallel_tree=1, predictor='auto', random_state=0, reg_alpha=0,\n",
       "             reg_lambda=1, scale_pos_weight=1, subsample=1, tree_method='exact',\n",
       "             validate_parameters=1, verbosity=None)"
      ]
     },
     "execution_count": 81,
     "metadata": {},
     "output_type": "execute_result"
    }
   ],
   "source": [
    "xgb = XGBRegressor()\n",
    "xgb.fit(X_train, y_train)"
   ]
  },
  {
   "cell_type": "code",
   "execution_count": 82,
   "id": "bd1884b4-1acf-407d-8810-35f72f5b0655",
   "metadata": {},
   "outputs": [
    {
     "data": {
      "text/plain": [
       "(3.855291674682709e-05, 0.00023472043586748872)"
      ]
     },
     "execution_count": 82,
     "metadata": {},
     "output_type": "execute_result"
    }
   ],
   "source": [
    "mean_squared_error(y_train, xgb.predict(X_train)),mean_squared_error(y_test, xgb.predict(X_test))"
   ]
  },
  {
   "cell_type": "code",
   "execution_count": 98,
   "id": "e92a062f-ba37-4a9d-bc41-51564f61f5db",
   "metadata": {},
   "outputs": [],
   "source": [
    "xgb_gs = GridSearchCV(estimator=XGBRegressor(),\n",
    "                     param_grid={\n",
    "                         'max_depth':[10,11,12,13],\n",
    "                         'learning_rate':np.linspace(.01,.1,3),\n",
    "                         'n_estimators':[200],\n",
    "                         'random_state':[42]\n",
    "                     },\n",
    "                     scoring='neg_mean_squared_error',\n",
    "                     n_jobs=-1,\n",
    "                     cv=5)"
   ]
  },
  {
   "cell_type": "code",
   "execution_count": 99,
   "id": "cfe33b40-b233-467d-a413-c23ddad6d874",
   "metadata": {},
   "outputs": [
    {
     "data": {
      "text/plain": [
       "GridSearchCV(cv=5,\n",
       "             estimator=XGBRegressor(base_score=None, booster=None,\n",
       "                                    colsample_bylevel=None,\n",
       "                                    colsample_bynode=None,\n",
       "                                    colsample_bytree=None,\n",
       "                                    enable_categorical=False, gamma=None,\n",
       "                                    gpu_id=None, importance_type=None,\n",
       "                                    interaction_constraints=None,\n",
       "                                    learning_rate=None, max_delta_step=None,\n",
       "                                    max_depth=None, min_child_weight=None,\n",
       "                                    missing=nan, monotone_constraints=None,\n",
       "                                    n...None,\n",
       "                                    num_parallel_tree=None, predictor=None,\n",
       "                                    random_state=None, reg_alpha=None,\n",
       "                                    reg_lambda=None, scale_pos_weight=None,\n",
       "                                    subsample=None, tree_method=None,\n",
       "                                    validate_parameters=None, verbosity=None),\n",
       "             n_jobs=-1,\n",
       "             param_grid={'learning_rate': array([0.01 , 0.055, 0.1  ]),\n",
       "                         'max_depth': [10, 11, 12, 13], 'n_estimators': [200],\n",
       "                         'random_state': [42]},\n",
       "             scoring='neg_mean_squared_error')"
      ]
     },
     "execution_count": 99,
     "metadata": {},
     "output_type": "execute_result"
    }
   ],
   "source": [
    "xgb_gs.fit(X_train,y_train)"
   ]
  },
  {
   "cell_type": "code",
   "execution_count": 100,
   "id": "7398eb3a-dcaa-4c7c-b16b-331e3638fc73",
   "metadata": {},
   "outputs": [
    {
     "data": {
      "text/plain": [
       "{'learning_rate': 0.1,\n",
       " 'max_depth': 10,\n",
       " 'n_estimators': 200,\n",
       " 'random_state': 42}"
      ]
     },
     "execution_count": 100,
     "metadata": {},
     "output_type": "execute_result"
    }
   ],
   "source": [
    "xgb_gs.best_params_"
   ]
  },
  {
   "cell_type": "code",
   "execution_count": 101,
   "id": "e87791d7-ff65-4659-96f5-e364eca4e8da",
   "metadata": {},
   "outputs": [
    {
     "data": {
      "text/plain": [
       "(1.7443373963809892e-05, 0.0002301318735520251)"
      ]
     },
     "execution_count": 101,
     "metadata": {},
     "output_type": "execute_result"
    }
   ],
   "source": [
    "mean_squared_error(y_train, xgb_gs.predict(X_train)),mean_squared_error(y_test, xgb_gs.predict(X_test))"
   ]
  },
  {
   "cell_type": "code",
   "execution_count": null,
   "id": "2a522e82-56a0-43f3-8b7e-8945ae581c90",
   "metadata": {},
   "outputs": [],
   "source": []
  },
  {
   "cell_type": "markdown",
   "id": "36285cef-829d-437e-b6fa-63f8e8bac65e",
   "metadata": {
    "tags": []
   },
   "source": [
    "# Estimating Vaccine Administrations"
   ]
  },
  {
   "cell_type": "code",
   "execution_count": 8,
   "id": "78ea4be5-7aae-40d0-97f8-abd470eeff2a",
   "metadata": {
    "tags": []
   },
   "outputs": [
    {
     "data": {
      "text/plain": [
       "Index(['fips_code', 'state', 'estimated_hesitant',\n",
       "       'estimated_hesitant_or_unsure', 'estimated_strongly_hesitant',\n",
       "       'social_vulnerability_index_(svi)', 'svi_category',\n",
       "       'cvac_level_of_concern_for_vaccination_rollout',\n",
       "       'cvac_level_of_concern',\n",
       "       'percent_adults_fully_vaccinated_against_covid-19_(as_of_6/10/21)',\n",
       "       'percent_hispanic',\n",
       "       'percent_non-hispanic_american_indian/alaska_native',\n",
       "       'percent_non-hispanic_asian', 'percent_non-hispanic_black',\n",
       "       'percent_non-hispanic_native_hawaiian/pacific_islander',\n",
       "       'percent_non-hispanic_white', 'recip_county', 'recip_state',\n",
       "       'series_complete_pop_pct', 'series_complete_yes',\n",
       "       'series_complete_12plus', 'series_complete_12pluspop_pct',\n",
       "       'series_complete_18plus', 'series_complete_18pluspop_pct',\n",
       "       'series_complete_65plus', 'series_complete_65pluspop_pct',\n",
       "       'completeness_pct', 'administered_dose1_recip',\n",
       "       'administered_dose1_pop_pct', 'administered_dose1_recip_12plus',\n",
       "       'administered_dose1_recip_12pluspop_pct',\n",
       "       'administered_dose1_recip_18plus',\n",
       "       'administered_dose1_recip_18pluspop_pct',\n",
       "       'administered_dose1_recip_65plus',\n",
       "       'administered_dose1_recip_65pluspop_pct', 'svi_ctgy',\n",
       "       'series_complete_pop_pct_svi', 'series_complete_12pluspop_pct_svi',\n",
       "       'series_complete_18pluspop_pct_svi',\n",
       "       'series_complete_65pluspop_pct_svi', 'metro_status',\n",
       "       'series_complete_pop_pct_ur_equity',\n",
       "       'series_complete_12pluspop_pct_ur_equity',\n",
       "       'series_complete_18pluspop_pct_ur_equity',\n",
       "       'series_complete_65pluspop_pct_ur_equity',\n",
       "       'administered_dose1_recip_5plus',\n",
       "       'administered_dose1_recip_5pluspop_pct', 'series_complete_5plus',\n",
       "       'series_complete_5pluspop_pct', 'pop', 'state_pop', 'state_pop_pct',\n",
       "       'distributed'],\n",
       "      dtype='object')"
      ]
     },
     "execution_count": 8,
     "metadata": {},
     "output_type": "execute_result"
    }
   ],
   "source": [
    "df.columns"
   ]
  },
  {
   "cell_type": "code",
   "execution_count": 28,
   "id": "2d744d1c-3bfc-45c9-b15c-2512542d56a3",
   "metadata": {},
   "outputs": [],
   "source": [
    "X = df[['estimated_hesitant','estimated_hesitant_or_unsure','estimated_strongly_hesitant','social_vulnerability_index_(svi)',\n",
    "     'cvac_level_of_concern_for_vaccination_rollout','metro_status']]\n",
    "y = df['administered_dose1_recip']"
   ]
  },
  {
   "cell_type": "code",
   "execution_count": 31,
   "id": "3157107c-9251-4909-a509-85f3f0720926",
   "metadata": {},
   "outputs": [],
   "source": [
    "X = pd.get_dummies(columns=['metro_status'],data=X)"
   ]
  },
  {
   "cell_type": "code",
   "execution_count": 43,
   "id": "28146207-7346-4db8-81f5-c88108dc9311",
   "metadata": {},
   "outputs": [],
   "source": [
    "# 0 Value for Metro_Status"
   ]
  },
  {
   "cell_type": "code",
   "execution_count": 49,
   "id": "e6f8c40c-24e6-4076-9fd1-b6c5bc50422d",
   "metadata": {},
   "outputs": [],
   "source": [
    "X_train, X_test, y_train, y_test = train_test_split(X,y,\n",
    "                                                   random_state=42)"
   ]
  },
  {
   "cell_type": "markdown",
   "id": "65a9e432-a910-4389-8748-579199bad7d1",
   "metadata": {
    "tags": [],
    "toc-hr-collapsed": true
   },
   "source": [
    "## Linear Regression\n",
    "(193961.9332486839, 346720.08059892996)"
   ]
  },
  {
   "cell_type": "code",
   "execution_count": 71,
   "id": "d006e13d-5193-4a9e-81dd-635545611b77",
   "metadata": {},
   "outputs": [
    {
     "data": {
      "text/plain": [
       "(193961.9332486839, 346720.08059892996)"
      ]
     },
     "execution_count": 71,
     "metadata": {},
     "output_type": "execute_result"
    }
   ],
   "source": [
    "linreg=LinearRegression()\n",
    "linreg.fit(X_train, y_train)\n",
    "mean_squared_error(y_train, linreg.predict(X_train),squared=False),mean_squared_error(y_test, linreg.predict(X_test),squared=False)"
   ]
  },
  {
   "cell_type": "code",
   "execution_count": 69,
   "id": "31545d65-eb6c-485c-8858-44593afb4ac5",
   "metadata": {},
   "outputs": [],
   "source": [
    "coefs = pd.DataFrame(list(zip(X.columns,linreg.coef_)), columns=['variable','coefficient'])"
   ]
  },
  {
   "cell_type": "code",
   "execution_count": 70,
   "id": "168cc2a0-c366-4aaa-9307-c0d49231cfb9",
   "metadata": {
    "tags": []
   },
   "outputs": [
    {
     "data": {
      "text/html": [
       "<div>\n",
       "<style scoped>\n",
       "    .dataframe tbody tr th:only-of-type {\n",
       "        vertical-align: middle;\n",
       "    }\n",
       "\n",
       "    .dataframe tbody tr th {\n",
       "        vertical-align: top;\n",
       "    }\n",
       "\n",
       "    .dataframe thead th {\n",
       "        text-align: right;\n",
       "    }\n",
       "</style>\n",
       "<table border=\"1\" class=\"dataframe\">\n",
       "  <thead>\n",
       "    <tr style=\"text-align: right;\">\n",
       "      <th></th>\n",
       "      <th>variable</th>\n",
       "      <th>coefficient</th>\n",
       "    </tr>\n",
       "  </thead>\n",
       "  <tbody>\n",
       "    <tr>\n",
       "      <th>0</th>\n",
       "      <td>estimated_hesitant</td>\n",
       "      <td>1.028218e+06</td>\n",
       "    </tr>\n",
       "    <tr>\n",
       "      <th>3</th>\n",
       "      <td>social_vulnerability_index_(svi)</td>\n",
       "      <td>1.417404e+05</td>\n",
       "    </tr>\n",
       "    <tr>\n",
       "      <th>2</th>\n",
       "      <td>estimated_strongly_hesitant</td>\n",
       "      <td>1.232175e+05</td>\n",
       "    </tr>\n",
       "    <tr>\n",
       "      <th>6</th>\n",
       "      <td>metro_status_Metro</td>\n",
       "      <td>7.776130e+04</td>\n",
       "    </tr>\n",
       "    <tr>\n",
       "      <th>5</th>\n",
       "      <td>metro_status_0</td>\n",
       "      <td>-2.434905e+04</td>\n",
       "    </tr>\n",
       "    <tr>\n",
       "      <th>4</th>\n",
       "      <td>cvac_level_of_concern_for_vaccination_rollout</td>\n",
       "      <td>-3.184069e+04</td>\n",
       "    </tr>\n",
       "    <tr>\n",
       "      <th>7</th>\n",
       "      <td>metro_status_Non-metro</td>\n",
       "      <td>-5.341225e+04</td>\n",
       "    </tr>\n",
       "    <tr>\n",
       "      <th>1</th>\n",
       "      <td>estimated_hesitant_or_unsure</td>\n",
       "      <td>-1.858342e+06</td>\n",
       "    </tr>\n",
       "  </tbody>\n",
       "</table>\n",
       "</div>"
      ],
      "text/plain": [
       "                                        variable   coefficient\n",
       "0                             estimated_hesitant  1.028218e+06\n",
       "3               social_vulnerability_index_(svi)  1.417404e+05\n",
       "2                    estimated_strongly_hesitant  1.232175e+05\n",
       "6                             metro_status_Metro  7.776130e+04\n",
       "5                                 metro_status_0 -2.434905e+04\n",
       "4  cvac_level_of_concern_for_vaccination_rollout -3.184069e+04\n",
       "7                         metro_status_Non-metro -5.341225e+04\n",
       "1                   estimated_hesitant_or_unsure -1.858342e+06"
      ]
     },
     "execution_count": 70,
     "metadata": {},
     "output_type": "execute_result"
    }
   ],
   "source": [
    "coefs.sort_values(by='coefficient',ascending=False)"
   ]
  },
  {
   "cell_type": "code",
   "execution_count": null,
   "id": "9b83d5d8-37f4-42c7-bbdc-0eb3c6ace992",
   "metadata": {},
   "outputs": [],
   "source": []
  },
  {
   "cell_type": "markdown",
   "id": "a1fab2f6-8d43-451c-b7e2-2e590fe30343",
   "metadata": {
    "tags": [],
    "toc-hr-collapsed": true
   },
   "source": [
    "## Random Forests\n",
    "(70054.81896835605, 323067.93239419203)"
   ]
  },
  {
   "cell_type": "code",
   "execution_count": 72,
   "id": "750fc3e0-4667-4c25-bf8d-b63277009cdd",
   "metadata": {
    "collapsed": true,
    "jupyter": {
     "outputs_hidden": true
    },
    "tags": []
   },
   "outputs": [
    {
     "data": {
      "text/plain": [
       "{'bootstrap': True,\n",
       " 'ccp_alpha': 0.0,\n",
       " 'criterion': 'mse',\n",
       " 'max_depth': None,\n",
       " 'max_features': 'auto',\n",
       " 'max_leaf_nodes': None,\n",
       " 'max_samples': None,\n",
       " 'min_impurity_decrease': 0.0,\n",
       " 'min_impurity_split': None,\n",
       " 'min_samples_leaf': 1,\n",
       " 'min_samples_split': 2,\n",
       " 'min_weight_fraction_leaf': 0.0,\n",
       " 'n_estimators': 100,\n",
       " 'n_jobs': None,\n",
       " 'oob_score': False,\n",
       " 'random_state': None,\n",
       " 'verbose': 0,\n",
       " 'warm_start': False}"
      ]
     },
     "execution_count": 72,
     "metadata": {},
     "output_type": "execute_result"
    }
   ],
   "source": [
    "RandomForestRegressor().get_params()"
   ]
  },
  {
   "cell_type": "code",
   "execution_count": 85,
   "id": "87f3442a-671b-44fe-a4a5-b8783ea25f97",
   "metadata": {},
   "outputs": [
    {
     "data": {
      "text/plain": [
       "array([10., 20., 30., 40., 50.])"
      ]
     },
     "execution_count": 85,
     "metadata": {},
     "output_type": "execute_result"
    }
   ],
   "source": [
    "np.linspace(10,50,5)"
   ]
  },
  {
   "cell_type": "code",
   "execution_count": 97,
   "id": "8c26bdbb-903c-494e-8093-9ee0d21b83af",
   "metadata": {},
   "outputs": [],
   "source": [
    "gs = GridSearchCV(estimator=RandomForestRegressor(),\n",
    "                 param_grid={\n",
    "                     'n_estimators':[500],\n",
    "                     'max_depth':np.linspace(10,50,5),\n",
    "                     'warm_start':[True,False],\n",
    "                     'min_samples_leaf':[1,5,10]\n",
    "                 }, cv=5, n_jobs=-1)"
   ]
  },
  {
   "cell_type": "code",
   "execution_count": 98,
   "id": "42814747-bbee-4cde-944f-965c01181553",
   "metadata": {},
   "outputs": [
    {
     "name": "stdout",
     "output_type": "stream",
     "text": [
      "Wall time: 1min 46s\n"
     ]
    },
    {
     "data": {
      "text/plain": [
       "GridSearchCV(cv=5, estimator=RandomForestRegressor(), n_jobs=-1,\n",
       "             param_grid={'max_depth': array([10., 20., 30., 40., 50.]),\n",
       "                         'min_samples_leaf': [1, 5, 10], 'n_estimators': [500],\n",
       "                         'warm_start': [True, False]})"
      ]
     },
     "execution_count": 98,
     "metadata": {},
     "output_type": "execute_result"
    }
   ],
   "source": [
    "%%time\n",
    "\n",
    "gs.fit(X_train,y_train)"
   ]
  },
  {
   "cell_type": "code",
   "execution_count": 95,
   "id": "d4931de8-1bc0-4593-8cec-739027a90847",
   "metadata": {},
   "outputs": [
    {
     "data": {
      "text/plain": [
       "(25242655903.57451, 103248116763.35637)"
      ]
     },
     "execution_count": 95,
     "metadata": {},
     "output_type": "execute_result"
    }
   ],
   "source": [
    "mean_squared_error(y_train, gs.predict(X_train)),mean_squared_error(y_test, gs.predict(X_test))"
   ]
  },
  {
   "cell_type": "code",
   "execution_count": 96,
   "id": "c86436c2-d039-4541-a02f-00eadaa367dd",
   "metadata": {},
   "outputs": [
    {
     "data": {
      "text/plain": [
       "{'max_depth': 30.0,\n",
       " 'min_samples_leaf': 10,\n",
       " 'n_estimators': 500,\n",
       " 'warm_start': True}"
      ]
     },
     "execution_count": 96,
     "metadata": {},
     "output_type": "execute_result"
    }
   ],
   "source": [
    "gs.best_params_"
   ]
  },
  {
   "cell_type": "code",
   "execution_count": null,
   "id": "b481a7c1-c0c2-405f-9b34-12e36bb032d4",
   "metadata": {},
   "outputs": [],
   "source": []
  },
  {
   "cell_type": "markdown",
   "id": "f0bd5f65-9f03-4618-bbf1-5274184e048e",
   "metadata": {
    "tags": [],
    "toc-hr-collapsed": true
   },
   "source": [
    "## AdaBoost\n",
    "(155936.03349672462, 351135.7272933748)"
   ]
  },
  {
   "cell_type": "code",
   "execution_count": 78,
   "id": "c80d5434-4201-4685-83d5-c32f386bc524",
   "metadata": {},
   "outputs": [
    {
     "data": {
      "text/plain": [
       "{'base_estimator': None,\n",
       " 'learning_rate': 1.0,\n",
       " 'loss': 'linear',\n",
       " 'n_estimators': 50,\n",
       " 'random_state': None}"
      ]
     },
     "execution_count": 78,
     "metadata": {},
     "output_type": "execute_result"
    }
   ],
   "source": [
    "AdaBoostRegressor().get_params()"
   ]
  },
  {
   "cell_type": "code",
   "execution_count": 79,
   "id": "d4c369bf-fdbb-4625-859a-671f857f88a3",
   "metadata": {},
   "outputs": [],
   "source": [
    "ada_gs = GridSearchCV(estimator=AdaBoostRegressor(),\n",
    "                     param_grid={\n",
    "                         'learning_rate': np.linspace(.1,2,5),\n",
    "                         'loss': ['linear','square','exponential'],\n",
    "                         'n_estimators': [500],\n",
    "                         'random_state': [42]\n",
    "                     },cv=5, n_jobs=-1,\n",
    "                     scoring='neg_mean_squared_error')"
   ]
  },
  {
   "cell_type": "code",
   "execution_count": 80,
   "id": "f3984fd3-df2d-4d8d-95d9-55cce71a1089",
   "metadata": {},
   "outputs": [
    {
     "name": "stdout",
     "output_type": "stream",
     "text": [
      "Wall time: 13.5 s\n"
     ]
    },
    {
     "data": {
      "text/plain": [
       "GridSearchCV(cv=5, estimator=AdaBoostRegressor(), n_jobs=-1,\n",
       "             param_grid={'learning_rate': array([0.1  , 0.575, 1.05 , 1.525, 2.   ]),\n",
       "                         'loss': ['linear', 'square', 'exponential'],\n",
       "                         'n_estimators': [500], 'random_state': [42]},\n",
       "             scoring='neg_mean_squared_error')"
      ]
     },
     "execution_count": 80,
     "metadata": {},
     "output_type": "execute_result"
    }
   ],
   "source": [
    "%%time\n",
    "\n",
    "ada_gs.fit(X_train, y_train)"
   ]
  },
  {
   "cell_type": "code",
   "execution_count": 81,
   "id": "96e8bc5e-e926-44b7-bd9b-beb224e33030",
   "metadata": {},
   "outputs": [
    {
     "data": {
      "text/plain": [
       "{'learning_rate': 1.525,\n",
       " 'loss': 'square',\n",
       " 'n_estimators': 500,\n",
       " 'random_state': 42}"
      ]
     },
     "execution_count": 81,
     "metadata": {},
     "output_type": "execute_result"
    }
   ],
   "source": [
    "ada_gs.best_params_"
   ]
  },
  {
   "cell_type": "code",
   "execution_count": 84,
   "id": "10089658-fba8-448e-bc54-7cf2a41f3159",
   "metadata": {},
   "outputs": [
    {
     "data": {
      "text/plain": [
       "(155936.03349672462, 351135.7272933748)"
      ]
     },
     "execution_count": 84,
     "metadata": {},
     "output_type": "execute_result"
    }
   ],
   "source": [
    "mean_squared_error(y_train, ada_gs.predict(X_train),squared=False),mean_squared_error(y_test, ada_gs.predict(X_test),squared=False)"
   ]
  },
  {
   "cell_type": "code",
   "execution_count": null,
   "id": "a3f4f653-e381-432e-9df2-9e33d796514f",
   "metadata": {},
   "outputs": [],
   "source": []
  },
  {
   "cell_type": "markdown",
   "id": "de4d26e4-e838-46d2-8c56-9f435d20e574",
   "metadata": {
    "tags": [],
    "toc-hr-collapsed": true
   },
   "source": [
    "## XGB\n",
    "(22341.454376442274, 336950.1166971789)"
   ]
  },
  {
   "cell_type": "code",
   "execution_count": 53,
   "id": "f7b5ad88-5d1f-4ed8-b73e-60b819c006f7",
   "metadata": {},
   "outputs": [
    {
     "data": {
      "text/plain": [
       "{'objective': 'reg:squarederror',\n",
       " 'base_score': None,\n",
       " 'booster': None,\n",
       " 'colsample_bylevel': None,\n",
       " 'colsample_bynode': None,\n",
       " 'colsample_bytree': None,\n",
       " 'enable_categorical': False,\n",
       " 'gamma': None,\n",
       " 'gpu_id': None,\n",
       " 'importance_type': None,\n",
       " 'interaction_constraints': None,\n",
       " 'learning_rate': None,\n",
       " 'max_delta_step': None,\n",
       " 'max_depth': None,\n",
       " 'min_child_weight': None,\n",
       " 'missing': nan,\n",
       " 'monotone_constraints': None,\n",
       " 'n_estimators': 100,\n",
       " 'n_jobs': None,\n",
       " 'num_parallel_tree': None,\n",
       " 'predictor': None,\n",
       " 'random_state': None,\n",
       " 'reg_alpha': None,\n",
       " 'reg_lambda': None,\n",
       " 'scale_pos_weight': None,\n",
       " 'subsample': None,\n",
       " 'tree_method': None,\n",
       " 'validate_parameters': None,\n",
       " 'verbosity': None}"
      ]
     },
     "execution_count": 53,
     "metadata": {},
     "output_type": "execute_result"
    }
   ],
   "source": [
    "XGBRegressor().get_params()"
   ]
  },
  {
   "cell_type": "code",
   "execution_count": 54,
   "id": "0a8f3a49-9abf-45ee-ac3a-b599588caab5",
   "metadata": {},
   "outputs": [
    {
     "data": {
      "text/plain": [
       "XGBRegressor(base_score=0.5, booster='gbtree', colsample_bylevel=1,\n",
       "             colsample_bynode=1, colsample_bytree=1, enable_categorical=False,\n",
       "             gamma=0, gpu_id=-1, importance_type=None,\n",
       "             interaction_constraints='', learning_rate=0.300000012,\n",
       "             max_delta_step=0, max_depth=6, min_child_weight=1, missing=nan,\n",
       "             monotone_constraints='()', n_estimators=100, n_jobs=8,\n",
       "             num_parallel_tree=1, predictor='auto', random_state=0, reg_alpha=0,\n",
       "             reg_lambda=1, scale_pos_weight=1, subsample=1, tree_method='exact',\n",
       "             validate_parameters=1, verbosity=None)"
      ]
     },
     "execution_count": 54,
     "metadata": {},
     "output_type": "execute_result"
    }
   ],
   "source": [
    "xgb = XGBRegressor()\n",
    "xgb.fit(X_train, y_train)"
   ]
  },
  {
   "cell_type": "code",
   "execution_count": 62,
   "id": "58f9406a-5668-4e36-9602-9e8676d08071",
   "metadata": {},
   "outputs": [
    {
     "data": {
      "text/plain": [
       "(232573256.65102306, 113693461838.35988)"
      ]
     },
     "execution_count": 62,
     "metadata": {},
     "output_type": "execute_result"
    }
   ],
   "source": [
    "mean_squared_error(y_train, xgb.predict(X_train)),mean_squared_error(y_test, xgb.predict(X_test))"
   ]
  },
  {
   "cell_type": "code",
   "execution_count": 64,
   "id": "fb6603d1-d628-4176-b2a8-d3df39165a98",
   "metadata": {},
   "outputs": [
    {
     "name": "stdout",
     "output_type": "stream",
     "text": [
      "Wall time: 0 ns\n"
     ]
    }
   ],
   "source": [
    "xgb_gs = GridSearchCV(estimator=XGBRegressor(),\n",
    "                     param_grid={\n",
    "                         'max_depth':[10,11,12,13],\n",
    "                         'learning_rate':np.linspace(.01,.1,3),\n",
    "                         'n_estimators':[500],\n",
    "                         'random_state':[42]\n",
    "                     },\n",
    "                     scoring='neg_mean_squared_error',\n",
    "                     n_jobs=-1,\n",
    "                     cv=5)"
   ]
  },
  {
   "cell_type": "code",
   "execution_count": 65,
   "id": "37158b49-d46e-450a-9340-2c5083e4b3ef",
   "metadata": {
    "tags": []
   },
   "outputs": [
    {
     "name": "stdout",
     "output_type": "stream",
     "text": [
      "Wall time: 1min 16s\n"
     ]
    },
    {
     "data": {
      "text/plain": [
       "GridSearchCV(cv=5,\n",
       "             estimator=XGBRegressor(base_score=None, booster=None,\n",
       "                                    colsample_bylevel=None,\n",
       "                                    colsample_bynode=None,\n",
       "                                    colsample_bytree=None,\n",
       "                                    enable_categorical=False, gamma=None,\n",
       "                                    gpu_id=None, importance_type=None,\n",
       "                                    interaction_constraints=None,\n",
       "                                    learning_rate=None, max_delta_step=None,\n",
       "                                    max_depth=None, min_child_weight=None,\n",
       "                                    missing=nan, monotone_constraints=None,\n",
       "                                    n...None,\n",
       "                                    num_parallel_tree=None, predictor=None,\n",
       "                                    random_state=None, reg_alpha=None,\n",
       "                                    reg_lambda=None, scale_pos_weight=None,\n",
       "                                    subsample=None, tree_method=None,\n",
       "                                    validate_parameters=None, verbosity=None),\n",
       "             n_jobs=-1,\n",
       "             param_grid={'learning_rate': array([0.01 , 0.055, 0.1  ]),\n",
       "                         'max_depth': [10, 11, 12, 13], 'n_estimators': [500],\n",
       "                         'random_state': [42]},\n",
       "             scoring='neg_mean_squared_error')"
      ]
     },
     "execution_count": 65,
     "metadata": {},
     "output_type": "execute_result"
    }
   ],
   "source": [
    "%%time\n",
    "\n",
    "xgb_gs.fit(X_train,y_train)"
   ]
  },
  {
   "cell_type": "code",
   "execution_count": 66,
   "id": "e26503be-88d0-48f2-b1fb-cbe9572f71ec",
   "metadata": {},
   "outputs": [
    {
     "data": {
      "text/plain": [
       "{'learning_rate': 0.01,\n",
       " 'max_depth': 10,\n",
       " 'n_estimators': 500,\n",
       " 'random_state': 42}"
      ]
     },
     "execution_count": 66,
     "metadata": {},
     "output_type": "execute_result"
    }
   ],
   "source": [
    "xgb_gs.best_params_"
   ]
  },
  {
   "cell_type": "code",
   "execution_count": 67,
   "id": "2232484d-d6ae-45cd-9ad8-5c8eee656759",
   "metadata": {},
   "outputs": [
    {
     "data": {
      "text/plain": [
       "(22341.454376442274, 336950.1166971789)"
      ]
     },
     "execution_count": 67,
     "metadata": {},
     "output_type": "execute_result"
    }
   ],
   "source": [
    "mean_squared_error(y_train, xgb_gs.predict(X_train),squared=False),mean_squared_error(y_test, xgb_gs.predict(X_test),squared=False)"
   ]
  },
  {
   "cell_type": "code",
   "execution_count": null,
   "id": "0ce2c2cf-f821-4d78-aa7a-fcd6a175bcdb",
   "metadata": {},
   "outputs": [],
   "source": []
  }
 ],
 "metadata": {
  "kernelspec": {
   "display_name": "Python 3",
   "language": "python",
   "name": "python3"
  },
  "language_info": {
   "codemirror_mode": {
    "name": "ipython",
    "version": 3
   },
   "file_extension": ".py",
   "mimetype": "text/x-python",
   "name": "python",
   "nbconvert_exporter": "python",
   "pygments_lexer": "ipython3",
   "version": "3.8.8"
  }
 },
 "nbformat": 4,
 "nbformat_minor": 5
}
